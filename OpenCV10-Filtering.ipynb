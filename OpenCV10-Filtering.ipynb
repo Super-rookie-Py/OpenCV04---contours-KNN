{
 "cells": [
  {
   "cell_type": "markdown",
   "metadata": {},
   "source": [
    "# 강의노트\n",
    "### OpenCV Filtering"
   ]
  },
  {
   "cell_type": "markdown",
   "metadata": {},
   "source": [
    "#### 컨볼루션 계산: 특정한 이미지에 커널을 적용해 컨볼루션 계산하여 수행"
   ]
  },
  {
   "cell_type": "code",
   "execution_count": 1,
   "metadata": {},
   "outputs": [],
   "source": [
    "import cv2\n",
    "import numpy as np"
   ]
  },
  {
   "cell_type": "code",
   "execution_count": 4,
   "metadata": {},
   "outputs": [
    {
     "name": "stdout",
     "output_type": "stream",
     "text": [
      "[[0.0625 0.0625 0.0625 0.0625]\n",
      " [0.0625 0.0625 0.0625 0.0625]\n",
      " [0.0625 0.0625 0.0625 0.0625]\n",
      " [0.0625 0.0625 0.0625 0.0625]]\n"
     ]
    }
   ],
   "source": [
    "image = cv2.imread('gray_image.jpg')\n",
    "cv2.imshow(\"image\", image)\n",
    "cv2.waitKey(0)\n",
    "cv2.destroyAllWindows()\n",
    "\n",
    "size = 4 \n",
    "kernel = np.ones((size, size), np.float32) / (size**2)\n",
    "print(kernel)\n",
    "\n",
    "dst = cv2.filter2D(image, -1, kernel)\n",
    "cv2.imshow('Image', dst)\n",
    "cv2.waitKey(0)\n",
    "cv2.destroyAllWindows()\n"
   ]
  },
  {
   "cell_type": "code",
   "execution_count": null,
   "metadata": {},
   "outputs": [],
   "source": []
  }
 ],
 "metadata": {
  "kernelspec": {
   "display_name": "Python 3",
   "language": "python",
   "name": "python3"
  },
  "language_info": {
   "codemirror_mode": {
    "name": "ipython",
    "version": 3
   },
   "file_extension": ".py",
   "mimetype": "text/x-python",
   "name": "python",
   "nbconvert_exporter": "python",
   "pygments_lexer": "ipython3",
   "version": "3.7.5"
  }
 },
 "nbformat": 4,
 "nbformat_minor": 2
}
